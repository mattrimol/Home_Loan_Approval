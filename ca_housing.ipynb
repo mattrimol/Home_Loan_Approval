{
 "cells": [
  {
   "cell_type": "code",
   "execution_count": 1,
   "metadata": {
    "scrolled": false
   },
   "outputs": [
    {
     "name": "stderr",
     "output_type": "stream",
     "text": [
      "/home/mattrimol/anaconda3/lib/python3.8/site-packages/IPython/core/interactiveshell.py:3146: DtypeWarning: Columns (34,36,38,42,44,46,48) have mixed types.Specify dtype option on import or set low_memory=False.\n",
      "  has_raised = await self.run_ast_nodes(code_ast.body, cell_name,\n"
     ]
    }
   ],
   "source": [
    "import pandas as pd\n",
    "all_data = pd.read_csv('hmda_2017_ca_all-records_labels.csv')"
   ]
  },
  {
   "cell_type": "code",
   "execution_count": 2,
   "metadata": {},
   "outputs": [],
   "source": [
    "from pandas.api.types import is_numeric_dtype\n",
    "\n",
    "import matplotlib.pyplot as plt\n",
    "%matplotlib inline\n",
    "import numpy as np\n",
    "import seaborn as sns\n",
    "\n",
    "# modeling imports\n",
    "from sklearn.linear_model import LogisticRegression, LogisticRegressionCV\n",
    "from sklearn.ensemble import RandomForestClassifier\n",
    "from sklearn.model_selection import train_test_split, cross_validate, GridSearchCV, StratifiedKFold\n",
    "from sklearn import metrics\n",
    "from sklearn import preprocessing, pipeline, decomposition, compose\n",
    "from sklearn_pandas import DataFrameMapper\n",
    "\n",
    "import imblearn.under_sampling\n",
    "import imblearn.over_sampling\n",
    "import xgboost as xgb\n",
    "\n",
    "from collections import defaultdict"
   ]
  },
  {
   "cell_type": "code",
   "execution_count": 3,
   "metadata": {},
   "outputs": [],
   "source": [
    "#Store this to use later on if we want to dig more into interperetablity of results\n",
    "denials = all_data[['respondent_id', 'denial_reason_name_1', 'denial_reason_name_2', 'denial_reason_name_3']]\n",
    "\n",
    "all_data.drop([\n",
    "                'agency_name',\n",
    "                'agency_code',\n",
    "                'loan_type',\n",
    "                'property_type',\n",
    "                'loan_purpose',\n",
    "                'owner_occupancy',\n",
    "                'preapproval',\n",
    "                'action_taken',\n",
    "                'msamd',\n",
    "                'state_name',\n",
    "                'state_code',\n",
    "                'county_code',\n",
    "                'applicant_ethnicity',\n",
    "                'co_applicant_ethnicity',\n",
    "                'applicant_race_1',\n",
    "                'applicant_race_2',\n",
    "                'applicant_race_3',\n",
    "                'applicant_race_4',\n",
    "                'applicant_race_5',\n",
    "                'co_applicant_race_1',\n",
    "                'co_applicant_race_2',\n",
    "                'co_applicant_race_3',\n",
    "                'co_applicant_race_4',\n",
    "                'co_applicant_race_5',\n",
    "                'applicant_sex',\n",
    "                'co_applicant_sex',\n",
    "                'purchaser_type',\n",
    "                'denial_reason_1',\n",
    "                'denial_reason_2',\n",
    "                'denial_reason_3',\n",
    "                'denial_reason_name_1', #Stored in denials table\n",
    "                'denial_reason_name_2', #Stored in denials table\n",
    "                'denial_reason_name_3', #Stored in denials table\n",
    "                'hoepa_status',\n",
    "                'lien_status',\n",
    "                'edit_status',\n",
    "                'edit_status_name',\n",
    "                'sequence_number',\n",
    "                'application_date_indicator',\n",
    "                'rate_spread'],axis=1, inplace=True)\n",
    "\n",
    "#Only do this if single state and single year\n",
    "all_data.drop(['as_of_year', 'state_abbr'], axis=1, inplace=True)\n",
    "\n",
    "#Shortening some strings\n",
    "all_data.replace('One-to-four family dwelling (other than manufactured housing)',\n",
    "                 '1 to 4 family (excl. manufactured)', inplace=True)\n",
    "all_data.replace('Information not provided by applicant in mail, Internet, or telephone application',\n",
    "                 'Info not provided', inplace=True)"
   ]
  },
  {
   "cell_type": "markdown",
   "metadata": {},
   "source": [
    "## Subjective Cleaning"
   ]
  },
  {
   "cell_type": "code",
   "execution_count": 4,
   "metadata": {},
   "outputs": [],
   "source": [
    "# Likely too much complexity to go beyond two race listings\n",
    "all_data.drop(['applicant_race_name_3',\n",
    "               'applicant_race_name_4',\n",
    "               'applicant_race_name_5',\n",
    "               'co_applicant_race_name_3',\n",
    "               'co_applicant_race_name_4',\n",
    "               'co_applicant_race_name_5'], axis=1, inplace=True)"
   ]
  },
  {
   "cell_type": "code",
   "execution_count": 5,
   "metadata": {},
   "outputs": [],
   "source": [
    "# Filter down to applications accepted or denied (remove preapprovals and incompletes) and make binary\n",
    "acc_or_den_filter = (all_data['action_taken_name'] == 'Loan originated') |\\\n",
    "                    (all_data['action_taken_name'] == 'Application denied by financial institution')\n",
    "all_data = all_data[acc_or_den_filter]\n",
    "\n",
    "all_data['action_taken_name'].replace('Loan originated', 0, inplace=True)\n",
    "all_data['action_taken_name'].replace('Application denied by financial institution', 1, inplace=True)"
   ]
  },
  {
   "cell_type": "code",
   "execution_count": 6,
   "metadata": {},
   "outputs": [],
   "source": [
    "#Droping all the entires where we don't have census data\n",
    "all_data = all_data[all_data['population'].notna()]"
   ]
  },
  {
   "cell_type": "code",
   "execution_count": 7,
   "metadata": {},
   "outputs": [],
   "source": [
    "#Droping where loan_amount_000s is na\n",
    "all_data = all_data[all_data['loan_amount_000s'].notna()]"
   ]
  },
  {
   "cell_type": "code",
   "execution_count": 8,
   "metadata": {},
   "outputs": [],
   "source": [
    "all_data.drop(['county_name', #Too many\n",
    "               'census_tract_number', #Too many\n",
    "               'purchaser_type_name',\n",
    "               'hoepa_status_name', #Most are not HOEPA\n",
    "               'lien_status_name', #Probably exclude since vast majority are in one category\n",
    "              ], axis=1, inplace=True)"
   ]
  },
  {
   "cell_type": "code",
   "execution_count": 9,
   "metadata": {},
   "outputs": [],
   "source": [
    "# Unreported incomes seem to have similar loan amounts as reported incomes\n",
    "# Droping nulls for now, but consider filling with median. Probably big enough sample to just drop though.\n",
    "all_data = all_data[all_data['applicant_income_000s'].notna()]"
   ]
  },
  {
   "cell_type": "code",
   "execution_count": 10,
   "metadata": {},
   "outputs": [],
   "source": [
    "# Null location for Metropolitan Statistical Area/Metropolitan Division calling 'Other'\n",
    "all_data.loc[all_data['msamd_name'] == np.nan, 'msamd_name'] = 'Other'"
   ]
  },
  {
   "cell_type": "code",
   "execution_count": 11,
   "metadata": {},
   "outputs": [],
   "source": [
    "#all_data.info()"
   ]
  },
  {
   "cell_type": "markdown",
   "metadata": {},
   "source": [
    "## Outlier Handling"
   ]
  },
  {
   "cell_type": "code",
   "execution_count": 12,
   "metadata": {},
   "outputs": [],
   "source": [
    "#Dropping multifamily dwellings\n",
    "multifamily = all_data['property_type_name'] == 'Multifamily dwelling'\n",
    "all_data = all_data.drop(all_data[multifamily].index)"
   ]
  },
  {
   "cell_type": "code",
   "execution_count": 13,
   "metadata": {},
   "outputs": [],
   "source": [
    "# We want to exclude huge purchases and really small ones\n",
    "# Magic numbers here consider review\n",
    "loan_amt_filter = (all_data['loan_amount_000s'] > 25) &\\\n",
    "                  (all_data['loan_amount_000s'] < 20000)\n",
    "all_data = all_data[loan_amt_filter]"
   ]
  },
  {
   "cell_type": "markdown",
   "metadata": {},
   "source": [
    "## Feature Engineering"
   ]
  },
  {
   "cell_type": "code",
   "execution_count": 14,
   "metadata": {},
   "outputs": [
    {
     "name": "stdout",
     "output_type": "stream",
     "text": [
      "<class 'pandas.core.frame.DataFrame'>\n",
      "Int64Index: 1015606 entries, 0 to 1710448\n",
      "Data columns (total 25 columns):\n",
      " #   Column                          Non-Null Count    Dtype  \n",
      "---  ------                          --------------    -----  \n",
      " 0   respondent_id                   1015606 non-null  object \n",
      " 1   agency_abbr                     1015606 non-null  object \n",
      " 2   loan_type_name                  1015606 non-null  object \n",
      " 3   property_type_name              1015606 non-null  object \n",
      " 4   loan_purpose_name               1015606 non-null  object \n",
      " 5   owner_occupancy_name            1015606 non-null  object \n",
      " 6   loan_amount_000s                1015606 non-null  float64\n",
      " 7   preapproval_name                1015606 non-null  object \n",
      " 8   action_taken_name               1015606 non-null  int64  \n",
      " 9   msamd_name                      991323 non-null   object \n",
      " 10  applicant_ethnicity_name        1015606 non-null  object \n",
      " 11  co_applicant_ethnicity_name     1015606 non-null  object \n",
      " 12  applicant_race_name_1           1015606 non-null  object \n",
      " 13  applicant_race_name_2           8465 non-null     object \n",
      " 14  co_applicant_race_name_1        1015606 non-null  object \n",
      " 15  co_applicant_race_name_2        3622 non-null     object \n",
      " 16  applicant_sex_name              1015606 non-null  object \n",
      " 17  co_applicant_sex_name           1015606 non-null  object \n",
      " 18  applicant_income_000s           1015606 non-null  float64\n",
      " 19  population                      1015606 non-null  float64\n",
      " 20  minority_population             1015606 non-null  float64\n",
      " 21  hud_median_family_income        1015606 non-null  float64\n",
      " 22  tract_to_msamd_income           1015606 non-null  float64\n",
      " 23  number_of_owner_occupied_units  1015606 non-null  float64\n",
      " 24  number_of_1_to_4_family_units   1015606 non-null  float64\n",
      "dtypes: float64(8), int64(1), object(16)\n",
      "memory usage: 201.5+ MB\n"
     ]
    }
   ],
   "source": [
    "all_data.info()"
   ]
  },
  {
   "cell_type": "code",
   "execution_count": 15,
   "metadata": {},
   "outputs": [],
   "source": [
    "# binary column, has coapplicant?\n",
    "def has_coapp(row):\n",
    "    if row['co_applicant_sex_name'] == 'No co-applicant':\n",
    "        return 0\n",
    "    else:\n",
    "        return 1\n",
    "all_data['has_coapplicant'] = all_data.apply(lambda row: has_coapp(row), axis=1)"
   ]
  },
  {
   "cell_type": "code",
   "execution_count": 16,
   "metadata": {},
   "outputs": [],
   "source": [
    "# 1 if backed by ANY federal agency\n",
    "def fed_insured(row):\n",
    "    if row['loan_type_name'] == 'Conventional':\n",
    "        return 0\n",
    "    else:\n",
    "        return 1\n",
    "all_data['fed_insured'] = all_data.apply(lambda row: fed_insured(row), axis=1)\n",
    "all_data.drop('loan_type_name', axis=1, inplace=True)"
   ]
  },
  {
   "cell_type": "code",
   "execution_count": 17,
   "metadata": {},
   "outputs": [],
   "source": [
    "# Loan amount / Income\n",
    "all_data['loan_amount/applicant_income'] = all_data['loan_amount_000s']/all_data['applicant_income_000s']"
   ]
  },
  {
   "cell_type": "markdown",
   "metadata": {},
   "source": [
    "## Helper Functions"
   ]
  },
  {
   "cell_type": "code",
   "execution_count": 18,
   "metadata": {
    "scrolled": false
   },
   "outputs": [],
   "source": [
    "def get_cols(df):\n",
    "    '''Print vertical list so you can paste into excel and make notes'''\n",
    "    for col in df.columns:\n",
    "        print(col)"
   ]
  },
  {
   "cell_type": "code",
   "execution_count": 19,
   "metadata": {},
   "outputs": [],
   "source": [
    "def check_feature(df, feature):\n",
    "    if is_numeric_dtype(df[feature]):\n",
    "        plt.hist(df[feature])\n",
    "    else:\n",
    "        print(df[feature].value_counts())\n",
    "        ((df[feature].value_counts() / len(df[feature]))*100).sort_values().plot(kind = 'barh')\n",
    "        plt.xticks(np.arange(0, 100, 5))"
   ]
  },
  {
   "cell_type": "code",
   "execution_count": 20,
   "metadata": {},
   "outputs": [],
   "source": [
    "def create_model_df(df, features_list):\n",
    "    return df[features_list + ['action_taken_name']].dropna()"
   ]
  },
  {
   "cell_type": "markdown",
   "metadata": {},
   "source": [
    "## EDA"
   ]
  },
  {
   "cell_type": "code",
   "execution_count": 21,
   "metadata": {},
   "outputs": [
    {
     "name": "stdout",
     "output_type": "stream",
     "text": [
      "0.7985842935153987\n",
      "0.2014157064846013\n"
     ]
    }
   ],
   "source": [
    "for count in all_data['action_taken_name'].value_counts():\n",
    "    print(count/len(all_data['action_taken_name']))"
   ]
  },
  {
   "cell_type": "code",
   "execution_count": 22,
   "metadata": {},
   "outputs": [
    {
     "name": "stdout",
     "output_type": "stream",
     "text": [
      "HUD     611656\n",
      "CFPB    296284\n",
      "NCUA     53082\n",
      "FDIC     26893\n",
      "OCC      20097\n",
      "FRS       7594\n",
      "Name: agency_abbr, dtype: int64\n"
     ]
    },
    {
     "data": {
      "image/png": "[encoded data removed]",
      "text/plain": [
       "<Figure size 432x288 with 1 Axes>"
      ]
     },
     "metadata": {
      "needs_background": "light"
     },
     "output_type": "display_data"
    }
   ],
   "source": [
    "check_feature(all_data, 'agency_abbr')"
   ]
  },
  {
   "cell_type": "code",
   "execution_count": 23,
   "metadata": {
    "scrolled": false
   },
   "outputs": [
    {
     "name": "stdout",
     "output_type": "stream",
     "text": [
      "respondent_id\n",
      "agency_abbr\n",
      "property_type_name\n",
      "loan_purpose_name\n",
      "owner_occupancy_name\n",
      "loan_amount_000s\n",
      "preapproval_name\n",
      "action_taken_name\n",
      "msamd_name\n",
      "applicant_ethnicity_name\n",
      "co_applicant_ethnicity_name\n",
      "applicant_race_name_1\n",
      "applicant_race_name_2\n",
      "co_applicant_race_name_1\n",
      "co_applicant_race_name_2\n",
      "applicant_sex_name\n",
      "co_applicant_sex_name\n",
      "applicant_income_000s\n",
      "population\n",
      "minority_population\n",
      "hud_median_family_income\n",
      "tract_to_msamd_income\n",
      "number_of_owner_occupied_units\n",
      "number_of_1_to_4_family_units\n",
      "has_coapplicant\n",
      "fed_insured\n",
      "loan_amount/applicant_income\n"
     ]
    }
   ],
   "source": [
    "get_cols(all_data)"
   ]
  },
  {
   "cell_type": "markdown",
   "metadata": {},
   "source": [
    "## Creating Models"
   ]
  },
  {
   "cell_type": "markdown",
   "metadata": {},
   "source": [
    "#### Choose features and make a dataframe with those"
   ]
  },
  {
   "cell_type": "code",
   "execution_count": 24,
   "metadata": {},
   "outputs": [],
   "source": [
    "# Simple bare bones model\n",
    "features_1 = ['applicant_income_000s', 'fed_insured']\n",
    "model1 = create_model_df(all_data, features_1)"
   ]
  },
  {
   "cell_type": "code",
   "execution_count": 25,
   "metadata": {},
   "outputs": [],
   "source": [
    "# Throw more at it\n",
    "features_2 = ['loan_purpose_name',\n",
    "              'owner_occupancy_name',\n",
    "              'loan_amount_000s',\n",
    "              'applicant_race_name_1',\n",
    "              'applicant_income_000s',\n",
    "              'population',\n",
    "              'minority_population',\n",
    "              'hud_median_family_income',\n",
    "              'tract_to_msamd_income',\n",
    "              'has_coapplicant']\n",
    "              #'fed_insured']\n",
    "model2 = create_model_df(all_data, features_2)"
   ]
  },
  {
   "cell_type": "code",
   "execution_count": 26,
   "metadata": {},
   "outputs": [],
   "source": [
    "features_3 = ['loan_purpose_name', 'owner_occupancy_name', 'loan_amount/applicant_income', 'tract_to_msamd_income']\n",
    "model3 = create_model_df(all_data, features_3)"
   ]
  },
  {
   "cell_type": "code",
   "execution_count": 27,
   "metadata": {},
   "outputs": [],
   "source": [
    "features_4 = [#'agency_abbr',\n",
    "              'property_type_name',\n",
    "              'loan_purpose_name',\n",
    "              'owner_occupancy_name',\n",
    "              #'loan_amount_000s',\n",
    "              'msamd_name', #Going to be a lot of these\n",
    "              'applicant_ethnicity_name',\n",
    "              'applicant_race_name_1',\n",
    "              'applicant_sex_name',\n",
    "              #'applicant_income_000s',\n",
    "              'population',\n",
    "              'minority_population',\n",
    "              #'hud_median_family_income', #probably shouldn't include with tract_to_msand_income\n",
    "              'tract_to_msamd_income',\n",
    "              #'number_of_owner_occupied_units',\n",
    "              #'number_of_1_to_4_family_units',\n",
    "              'has_coapplicant',\n",
    "              #'fed_insured',\n",
    "              'loan_amount/applicant_income']\n",
    "model4 = create_model_df(all_data, features_4)"
   ]
  },
  {
   "cell_type": "code",
   "execution_count": 28,
   "metadata": {},
   "outputs": [],
   "source": [
    "# Take out any features that shouldn't actually have an effect (assume banks are not discriminating unfairly)\n",
    "features_5 = [#'agency_abbr',\n",
    "              'property_type_name',\n",
    "              'loan_purpose_name',\n",
    "              'owner_occupancy_name',\n",
    "              #'loan_amount_000s',\n",
    "              #'msamd_name', #Going to be a lot of these\n",
    "              #'applicant_ethnicity_name',\n",
    "              #'applicant_race_name_1',\n",
    "              #'applicant_sex_name',\n",
    "              #'applicant_income_000s',\n",
    "              #'population',\n",
    "              #'minority_population',\n",
    "              #'hud_median_family_income', #probably shouldn't include with tract_to_msand_income\n",
    "              'tract_to_msamd_income',\n",
    "              #'number_of_owner_occupied_units',\n",
    "              #'number_of_1_to_4_family_units',\n",
    "              'has_coapplicant',\n",
    "              #'fed_insured',\n",
    "              'loan_amount/applicant_income']\n",
    "model5 = create_model_df(all_data, features_5)"
   ]
  },
  {
   "cell_type": "code",
   "execution_count": 29,
   "metadata": {},
   "outputs": [],
   "source": [
    "# Another simple model\n",
    "features_6 = [#'agency_abbr',\n",
    "              #'property_type_name',\n",
    "              #'loan_purpose_name',\n",
    "              #'owner_occupancy_name',\n",
    "              #'loan_amount_000s',\n",
    "              'msamd_name', #Going to be a lot of these\n",
    "              #'applicant_ethnicity_name',\n",
    "              #'applicant_race_name_1',\n",
    "              #'applicant_sex_name',\n",
    "              #'applicant_income_000s',\n",
    "              'population',\n",
    "              #'minority_population',\n",
    "              #'hud_median_family_income', #probably shouldn't include with tract_to_msand_income\n",
    "              'tract_to_msamd_income',\n",
    "              #'number_of_owner_occupied_units',\n",
    "              #'number_of_1_to_4_family_units',\n",
    "              #'has_coapplicant',\n",
    "              #'fed_insured',\n",
    "              'loan_amount/applicant_income']\n",
    "model6 = create_model_df(all_data, features_6)"
   ]
  },
  {
   "cell_type": "code",
   "execution_count": 30,
   "metadata": {},
   "outputs": [],
   "source": [
    "features_7 = ['loan_purpose_name',\n",
    "              'msamd_name',\n",
    "              #'fed_insured',\n",
    "              'loan_amount/applicant_income']\n",
    "model7 = create_model_df(all_data, features_7)"
   ]
  },
  {
   "cell_type": "markdown",
   "metadata": {},
   "source": [
    "#### Split Train/Test"
   ]
  },
  {
   "cell_type": "code",
   "execution_count": 31,
   "metadata": {},
   "outputs": [],
   "source": [
    "def make_splits(df):\n",
    "    '''Makes X_train, X_test, y_train_y_test given a data frame with features and action_taken_name as y.\n",
    "    Use this to make sure we don't mess up getting data from the wrong df'''\n",
    "    return train_test_split(df[np.setdiff1d(df.columns, ['action_taken_name'])],\n",
    "                                          df['action_taken_name'],\n",
    "                                          test_size = 0.2, random_state=42)"
   ]
  },
  {
   "cell_type": "code",
   "execution_count": 32,
   "metadata": {},
   "outputs": [],
   "source": [
    "X_tr1, X_te1, y_tr1, y_te1 = make_splits(model1)"
   ]
  },
  {
   "cell_type": "code",
   "execution_count": 33,
   "metadata": {},
   "outputs": [],
   "source": [
    "X_tr2, X_te2, y_tr2, y_te2 = make_splits(model2)"
   ]
  },
  {
   "cell_type": "code",
   "execution_count": 34,
   "metadata": {},
   "outputs": [],
   "source": [
    "X_tr3, X_te3, y_tr3, y_te3 = make_splits(model3)"
   ]
  },
  {
   "cell_type": "code",
   "execution_count": 35,
   "metadata": {},
   "outputs": [],
   "source": [
    "X_tr4, X_te4, y_tr4, y_te4 = make_splits(model4)"
   ]
  },
  {
   "cell_type": "code",
   "execution_count": 36,
   "metadata": {},
   "outputs": [],
   "source": [
    "X_tr5, X_te5, y_tr5, y_te5 = make_splits(model5)"
   ]
  },
  {
   "cell_type": "code",
   "execution_count": 37,
   "metadata": {},
   "outputs": [],
   "source": [
    "X_tr6, X_te6, y_tr6, y_te6 = make_splits(model6)"
   ]
  },
  {
   "cell_type": "code",
   "execution_count": 38,
   "metadata": {},
   "outputs": [],
   "source": [
    "X_tr7, X_te7, y_tr7, y_te7 = make_splits(model7)"
   ]
  },
  {
   "cell_type": "markdown",
   "metadata": {},
   "source": [
    "##### Preprocessing"
   ]
  },
  {
   "cell_type": "code",
   "execution_count": 39,
   "metadata": {},
   "outputs": [],
   "source": [
    "def preprocess_columns(X_train, X_test):\n",
    "    num_cols = []\n",
    "    cat_cols = []\n",
    "    \n",
    "    #This is a list that will be the dummy column to drop (it will be the one with the lowest value count)\n",
    "    drop_dummy_cols = []\n",
    "    \n",
    "    # Create the column lists from X_train and then apply the procedure to X_train and X_test\n",
    "    for feature in X_train.columns:\n",
    "        if type(all_data[feature].iloc[0]) == str:\n",
    "            cat_cols.append(feature) # Creating the list of columns that are categorical\n",
    "\n",
    "            # Gets the category name with the lowest count (this will be the dummy column we drop)\n",
    "            min_cat = all_data[feature].value_counts().keys()[-1]\n",
    "\n",
    "            drop_dummy_cols.append(feature + '_' + min_cat) #string convention from pd.get_dummies\n",
    "\n",
    "        else:\n",
    "            num_cols.append(feature) #Columns that will get the standard scaler\n",
    "    \n",
    "    \n",
    "    std_scale = preprocessing.StandardScaler()\n",
    "    for column in X_train.columns:\n",
    "        if column in num_cols:\n",
    "            #standard scaling the numerical columns\n",
    "            X_train[column] = std_scale.fit_transform(np.array(X_train[column]).reshape(-1, 1))\n",
    "            X_test[column] = std_scale.fit_transform(np.array(X_test[column]).reshape(-1, 1))\n",
    "    \n",
    "    #Get dummies for the categoricals and drop the one with the lowest value count\n",
    "    X_train = pd.get_dummies(X_train)\n",
    "    X_test = pd.get_dummies(X_test)\n",
    "    X_train.drop(drop_dummy_cols, axis=1, inplace=True)\n",
    "    X_test.drop(drop_dummy_cols, axis=1, inplace=True)\n",
    "    \n",
    "    return X_train, X_test"
   ]
  },
  {
   "cell_type": "markdown",
   "metadata": {},
   "source": [
    "#### Pairplot"
   ]
  },
  {
   "cell_type": "code",
   "execution_count": 40,
   "metadata": {
    "scrolled": false
   },
   "outputs": [],
   "source": [
    "#sns.pairplot(model3.sample(frac=0.3, replace=True, random_state=1), hue='action_taken_name');"
   ]
  },
  {
   "cell_type": "code",
   "execution_count": 41,
   "metadata": {
    "scrolled": false
   },
   "outputs": [],
   "source": [
    "#sorted(metrics.SCORERS.keys())"
   ]
  },
  {
   "cell_type": "code",
   "execution_count": 42,
   "metadata": {},
   "outputs": [],
   "source": [
    "# 20% is denials (action_taken_name = 1)\n",
    "# 80% is loan originated\n",
    "def under_sample_bal(X_train, y_train):\n",
    "    '''pass in training data and return X_train_rs, y_train_rs'''\n",
    "    n_pos = np.sum(y_train == 1)\n",
    "    n_neg = np.sum(y_train == 0)\n",
    "    ratio = {1 : int(n_pos), 0 : int(n_neg/4)} \n",
    "\n",
    "    ROS = imblearn.under_sampling.RandomUnderSampler(sampling_strategy = ratio, random_state=42) \n",
    "    return ROS.fit_resample(X_train, y_train)"
   ]
  },
  {
   "cell_type": "code",
   "execution_count": 43,
   "metadata": {},
   "outputs": [],
   "source": [
    "def cross_validate(X_train, y_train, model, display_results=True, eval_metric=None, threshold=None):\n",
    "    '''\n",
    "    Cross validates and scores a model. Automattically standardizes numerical features, dummifies categoricals,\n",
    "    and rebalances data with undersampling function.\n",
    "    Inputs:\n",
    "    X_train: Full X_train data\n",
    "    y_train: Full y_train data\n",
    "    model: empty model such as RandomForestClassifier(). Specify hyperparameters if necessary.\n",
    "    display_results: If True, function will print out averae metrics across K Folds\n",
    "    eval_metric: Input string that corresponds to a metric in scores dict (see below). If specified,\n",
    "    the function will return a value for that metric's average. Can be used to cross validate to optimize for a metric.\n",
    "    '''\n",
    "      \n",
    "    \n",
    "    scores = {'accuracy_train': [], 'accuracy': [], 'recall': [], 'roc_auc': [],\n",
    "              'f1': [], 'precision': [],}\n",
    "    sfk = StratifiedKFold(n_splits=5)\n",
    "    \n",
    "    for train_index, test_index in sfk.split(X_train, y_train):\n",
    "        #create a train/val set for a split\n",
    "        X_tr, X_val = X_train.iloc[train_index].copy(), X_train.iloc[test_index].copy()\n",
    "        y_tr, y_val = y_train.iloc[train_index].copy(), y_train.iloc[test_index].copy()\n",
    "        \n",
    "        #preprocess X sets\n",
    "        X_tr_proc, X_val_proc = preprocess_columns(X_tr, X_val)\n",
    "\n",
    "        #Balance pos/neg class with undersampling\n",
    "        X_tr_rs, y_tr_rs = under_sample_bal(X_tr_proc, y_tr)\n",
    "        #print(np.sum(y_tr_rs == 1), np.sum(y_tr_rs == 0)) ###Checker to make sure balanced right\n",
    "        \n",
    "        #fit to train\n",
    "        model.fit(X_tr_rs, y_tr_rs)\n",
    "        if threshold:\n",
    "            y_proba_train = model.predict_proba(X_tr_proc)\n",
    "            y_pred_train = (y_proba_train[:,1] >= threshold).astype('int')\n",
    "            \n",
    "            #Validation Data\n",
    "            y_pred_proba = model.predict_proba(X_val_proc)\n",
    "            y_pred = (y_pred_proba[:,1] >= threshold).astype('int')\n",
    "        else:\n",
    "            y_pred_train = model.predict(X_tr_proc)\n",
    "            y_pred = model.predict(X_val_proc)\n",
    "        \n",
    "        # Score\n",
    "        accuracy_train = metrics.accuracy_score(y_tr, y_pred_train)\n",
    "        scores['accuracy_train'].append(accuracy_train)\n",
    "        accuracy = metrics.accuracy_score(y_val, y_pred)\n",
    "        scores['accuracy'].append(accuracy)\n",
    "        \n",
    "        recall = metrics.recall_score(y_val, y_pred)\n",
    "        scores['recall'].append(recall)\n",
    "        \n",
    "        roc_auc = metrics.roc_auc_score(y_val, model.predict_proba(X_val_proc)[:,1])\n",
    "        scores['roc_auc'].append(roc_auc)       \n",
    "        \n",
    "        f1 = metrics.f1_score(y_val, y_pred)\n",
    "        scores['f1'].append(f1)\n",
    "        \n",
    "        precision = metrics.precision_score(y_val, y_pred)\n",
    "        scores['precision'].append(precision)\n",
    "    \n",
    "    if display_results:\n",
    "        print(type(model))\n",
    "        print('Means:')\n",
    "        for metric in scores:\n",
    "            mean = np.mean(scores[metric])\n",
    "            all_scores = list(np.around(np.array(scores[metric]),2))\n",
    "            print('{:<20s},{:>15.2f},  {}'.format(metric, mean, all_scores))\n",
    "            \n",
    "    if eval_metric:\n",
    "        return np.mean(scores[eval_metric])"
   ]
  },
  {
   "cell_type": "code",
   "execution_count": 44,
   "metadata": {},
   "outputs": [],
   "source": [
    "# Logistic model hyperparameters\n",
    "solver = 'liblinear'\n",
    "max_iter = 200\n",
    "\n",
    "def log_cross_val(X_train, y_train):\n",
    "    '''Cross validates a logistic model on many C values and returns optimal C'''\n",
    "    C_results = defaultdict()\n",
    "\n",
    "    for C in [0.001, 0.01, 0.05, 0.1, 0.5, 1.0, 10.0, 100, 1000, 10000]:\n",
    "        logreg = LogisticRegression(C=C, solver=solver, max_iter=max_iter)\n",
    "        eval_result = cross_validate(X_train, y_train, logreg, display_results=False, eval_metric='roc_auc')\n",
    "        C_results[eval_result] = C\n",
    "\n",
    "    best_score = max(C_results.keys())\n",
    "    optimal_C = C_results[best_score]\n",
    "\n",
    "\n",
    "    logreg = LogisticRegression(C=optimal_C, solver=solver, max_iter=max_iter)\n",
    "    cross_validate(X_train, y_train, logreg)\n",
    "    \n",
    "    print(f'Optimal C: {optimal_C}')"
   ]
  },
  {
   "cell_type": "markdown",
   "metadata": {},
   "source": [
    "##### Logistic Models"
   ]
  },
  {
   "cell_type": "code",
   "execution_count": 45,
   "metadata": {
    "scrolled": true
   },
   "outputs": [],
   "source": [
    "#log_cross_val(X_tr1, y_tr1)"
   ]
  },
  {
   "cell_type": "code",
   "execution_count": 46,
   "metadata": {
    "scrolled": true
   },
   "outputs": [],
   "source": [
    "#log_cross_val(X_tr2, y_tr2)"
   ]
  },
  {
   "cell_type": "code",
   "execution_count": 47,
   "metadata": {
    "scrolled": true
   },
   "outputs": [],
   "source": [
    "#log_cross_val(X_tr3, y_tr3)"
   ]
  },
  {
   "cell_type": "code",
   "execution_count": 48,
   "metadata": {},
   "outputs": [],
   "source": [
    "#log_cross_val(X_tr4, y_tr4)"
   ]
  },
  {
   "cell_type": "code",
   "execution_count": 49,
   "metadata": {},
   "outputs": [],
   "source": [
    "#log_cross_val(X_tr5, y_tr5)"
   ]
  },
  {
   "cell_type": "code",
   "execution_count": 50,
   "metadata": {},
   "outputs": [],
   "source": [
    "#log_cross_val(X_tr6, y_tr6)"
   ]
  },
  {
   "cell_type": "code",
   "execution_count": 51,
   "metadata": {},
   "outputs": [],
   "source": [
    "#log_cross_val(X_tr7, y_tr7)"
   ]
  },
  {
   "cell_type": "markdown",
   "metadata": {},
   "source": [
    "##### Random Forest Classifier Models"
   ]
  },
  {
   "cell_type": "code",
   "execution_count": 49,
   "metadata": {},
   "outputs": [],
   "source": [
    "rfc = RandomForestClassifier()"
   ]
  },
  {
   "cell_type": "code",
   "execution_count": 50,
   "metadata": {},
   "outputs": [
    {
     "name": "stdout",
     "output_type": "stream",
     "text": [
      "<class 'sklearn.ensemble._forest.RandomForestClassifier'>\n",
      "Means:\n",
      "accuracy_train      ,           0.63,  [0.63, 0.63, 0.62, 0.63, 0.63]\n",
      "accuracy            ,           0.63,  [0.64, 0.62, 0.63, 0.65, 0.62]\n",
      "recall              ,           0.46,  [0.45, 0.48, 0.46, 0.41, 0.48]\n",
      "roc_auc             ,           0.59,  [0.59, 0.59, 0.59, 0.58, 0.59]\n",
      "f1                  ,           0.33,  [0.33, 0.34, 0.34, 0.32, 0.34]\n",
      "precision           ,           0.26,  [0.26, 0.26, 0.26, 0.27, 0.26]\n"
     ]
    }
   ],
   "source": [
    "cross_validate(X_tr1, y_tr1, rfc)"
   ]
  },
  {
   "cell_type": "code",
   "execution_count": 51,
   "metadata": {},
   "outputs": [
    {
     "name": "stdout",
     "output_type": "stream",
     "text": [
      "<class 'sklearn.ensemble._forest.RandomForestClassifier'>\n",
      "Means:\n",
      "accuracy_train      ,           0.78,  [0.78, 0.78, 0.78, 0.78, 0.78]\n",
      "accuracy            ,           0.64,  [0.64, 0.63, 0.64, 0.65, 0.63]\n",
      "recall              ,           0.63,  [0.63, 0.65, 0.63, 0.61, 0.65]\n",
      "roc_auc             ,           0.69,  [0.69, 0.69, 0.69, 0.69, 0.69]\n",
      "f1                  ,           0.41,  [0.41, 0.41, 0.41, 0.41, 0.41]\n",
      "precision           ,           0.31,  [0.31, 0.3, 0.31, 0.31, 0.3]\n"
     ]
    }
   ],
   "source": [
    "cross_validate(X_tr2, y_tr2, rfc)"
   ]
  },
  {
   "cell_type": "code",
   "execution_count": 52,
   "metadata": {},
   "outputs": [
    {
     "name": "stdout",
     "output_type": "stream",
     "text": [
      "<class 'sklearn.ensemble._forest.RandomForestClassifier'>\n",
      "Means:\n",
      "accuracy_train      ,           0.76,  [0.76, 0.76, 0.76, 0.76, 0.76]\n",
      "accuracy            ,           0.59,  [0.58, 0.59, 0.6, 0.59, 0.6]\n",
      "recall              ,           0.57,  [0.6, 0.58, 0.57, 0.58, 0.54]\n",
      "roc_auc             ,           0.63,  [0.63, 0.63, 0.63, 0.63, 0.62]\n",
      "f1                  ,           0.36,  [0.37, 0.36, 0.36, 0.36, 0.35]\n",
      "precision           ,           0.26,  [0.26, 0.27, 0.27, 0.26, 0.26]\n"
     ]
    }
   ],
   "source": [
    "cross_validate(X_tr3, y_tr3, rfc)"
   ]
  },
  {
   "cell_type": "code",
   "execution_count": 53,
   "metadata": {},
   "outputs": [
    {
     "name": "stdout",
     "output_type": "stream",
     "text": [
      "<class 'sklearn.ensemble._forest.RandomForestClassifier'>\n",
      "Means:\n",
      "accuracy_train      ,           0.77,  [0.77, 0.77, 0.77, 0.77, 0.77]\n",
      "accuracy            ,           0.62,  [0.62, 0.63, 0.62, 0.62, 0.62]\n",
      "recall              ,           0.63,  [0.63, 0.61, 0.63, 0.63, 0.64]\n",
      "roc_auc             ,           0.67,  [0.67, 0.67, 0.67, 0.67, 0.68]\n",
      "f1                  ,           0.40,  [0.4, 0.4, 0.4, 0.4, 0.4]\n",
      "precision           ,           0.29,  [0.29, 0.3, 0.29, 0.29, 0.29]\n"
     ]
    }
   ],
   "source": [
    "cross_validate(X_tr4, y_tr4, rfc)"
   ]
  },
  {
   "cell_type": "code",
   "execution_count": 54,
   "metadata": {},
   "outputs": [
    {
     "name": "stdout",
     "output_type": "stream",
     "text": [
      "<class 'sklearn.ensemble._forest.RandomForestClassifier'>\n",
      "Means:\n",
      "accuracy_train      ,           0.77,  [0.77, 0.77, 0.77, 0.77, 0.77]\n",
      "accuracy            ,           0.60,  [0.6, 0.6, 0.61, 0.6, 0.61]\n",
      "recall              ,           0.58,  [0.6, 0.59, 0.58, 0.59, 0.56]\n",
      "roc_auc             ,           0.64,  [0.64, 0.64, 0.64, 0.64, 0.63]\n",
      "f1                  ,           0.37,  [0.38, 0.37, 0.37, 0.37, 0.37]\n",
      "precision           ,           0.27,  [0.27, 0.27, 0.28, 0.27, 0.27]\n"
     ]
    }
   ],
   "source": [
    "cross_validate(X_tr5, y_tr5, rfc)"
   ]
  },
  {
   "cell_type": "code",
   "execution_count": 55,
   "metadata": {
    "scrolled": true
   },
   "outputs": [
    {
     "name": "stdout",
     "output_type": "stream",
     "text": [
      "<class 'sklearn.ensemble._forest.RandomForestClassifier'>\n",
      "Means:\n",
      "accuracy_train      ,           0.72,  [0.72, 0.72, 0.72, 0.72, 0.72]\n",
      "accuracy            ,           0.55,  [0.55, 0.56, 0.54, 0.55, 0.55]\n",
      "recall              ,           0.56,  [0.57, 0.54, 0.58, 0.56, 0.57]\n",
      "roc_auc             ,           0.58,  [0.59, 0.57, 0.58, 0.58, 0.58]\n",
      "f1                  ,           0.33,  [0.34, 0.33, 0.33, 0.33, 0.33]\n",
      "precision           ,           0.24,  [0.24, 0.23, 0.24, 0.24, 0.24]\n"
     ]
    }
   ],
   "source": [
    "cross_validate(X_tr6, y_tr6, rfc)"
   ]
  },
  {
   "cell_type": "code",
   "execution_count": 56,
   "metadata": {},
   "outputs": [
    {
     "name": "stdout",
     "output_type": "stream",
     "text": [
      "<class 'sklearn.ensemble._forest.RandomForestClassifier'>\n",
      "Means:\n",
      "accuracy_train      ,           0.70,  [0.7, 0.7, 0.7, 0.7, 0.7]\n",
      "accuracy            ,           0.56,  [0.56, 0.56, 0.55, 0.56, 0.56]\n",
      "recall              ,           0.56,  [0.56, 0.54, 0.56, 0.56, 0.57]\n",
      "roc_auc             ,           0.59,  [0.6, 0.59, 0.59, 0.59, 0.6]\n",
      "f1                  ,           0.34,  [0.34, 0.33, 0.34, 0.34, 0.34]\n",
      "precision           ,           0.24,  [0.24, 0.24, 0.24, 0.24, 0.24]\n"
     ]
    }
   ],
   "source": [
    "cross_validate(X_tr7, y_tr7, rfc)"
   ]
  },
  {
   "cell_type": "markdown",
   "metadata": {},
   "source": [
    "---"
   ]
  },
  {
   "cell_type": "code",
   "execution_count": 57,
   "metadata": {},
   "outputs": [],
   "source": [
    "rfc2 = RandomForestClassifier(n_estimators=10)"
   ]
  },
  {
   "cell_type": "code",
   "execution_count": 58,
   "metadata": {
    "scrolled": true
   },
   "outputs": [
    {
     "name": "stdout",
     "output_type": "stream",
     "text": [
      "<class 'sklearn.ensemble._forest.RandomForestClassifier'>\n",
      "Means:\n",
      "accuracy_train      ,           0.80,  [0.8, 0.8, 0.8, 0.8, 0.8]\n",
      "accuracy            ,           0.65,  [0.66, 0.64, 0.66, 0.66, 0.65]\n",
      "recall              ,           0.55,  [0.54, 0.57, 0.54, 0.52, 0.57]\n",
      "roc_auc             ,           0.66,  [0.66, 0.66, 0.66, 0.65, 0.66]\n",
      "f1                  ,           0.39,  [0.39, 0.39, 0.39, 0.38, 0.39]\n",
      "precision           ,           0.30,  [0.3, 0.3, 0.3, 0.3, 0.3]\n"
     ]
    }
   ],
   "source": [
    "cross_validate(X_tr2, y_tr2, rfc2)"
   ]
  },
  {
   "cell_type": "code",
   "execution_count": 59,
   "metadata": {},
   "outputs": [
    {
     "name": "stdout",
     "output_type": "stream",
     "text": [
      "<class 'sklearn.ensemble._forest.RandomForestClassifier'>\n",
      "Means:\n",
      "accuracy_train      ,           0.89,  [0.89, 0.89, 0.89, 0.89, 0.89]\n",
      "accuracy            ,           0.77,  [0.77, 0.76, 0.77, 0.77, 0.76]\n",
      "recall              ,           0.26,  [0.27, 0.29, 0.25, 0.22, 0.28]\n",
      "roc_auc             ,           0.66,  [0.66, 0.66, 0.65, 0.65, 0.66]\n",
      "f1                  ,           0.31,  [0.32, 0.33, 0.31, 0.28, 0.32]\n",
      "precision           ,           0.38,  [0.39, 0.38, 0.39, 0.39, 0.38]\n"
     ]
    }
   ],
   "source": [
    "cross_validate(X_tr2, y_tr2, rfc2, threshold=0.75)"
   ]
  },
  {
   "cell_type": "code",
   "execution_count": 60,
   "metadata": {},
   "outputs": [
    {
     "name": "stdout",
     "output_type": "stream",
     "text": [
      "<class 'sklearn.ensemble._forest.RandomForestClassifier'>\n",
      "Means:\n",
      "accuracy_train      ,           0.79,  [0.79, 0.79, 0.79, 0.79, 0.79]\n",
      "accuracy            ,           0.64,  [0.64, 0.65, 0.64, 0.64, 0.64]\n",
      "recall              ,           0.55,  [0.56, 0.54, 0.56, 0.55, 0.56]\n",
      "roc_auc             ,           0.65,  [0.65, 0.65, 0.65, 0.65, 0.65]\n",
      "f1                  ,           0.38,  [0.38, 0.38, 0.38, 0.38, 0.39]\n",
      "precision           ,           0.29,  [0.29, 0.3, 0.29, 0.29, 0.29]\n"
     ]
    }
   ],
   "source": [
    "cross_validate(X_tr4, y_tr4, rfc2)"
   ]
  },
  {
   "cell_type": "code",
   "execution_count": 61,
   "metadata": {},
   "outputs": [
    {
     "name": "stdout",
     "output_type": "stream",
     "text": [
      "<class 'sklearn.ensemble._forest.RandomForestClassifier'>\n",
      "Means:\n",
      "accuracy_train      ,           0.87,  [0.87, 0.87, 0.87, 0.87, 0.87]\n",
      "accuracy            ,           0.75,  [0.75, 0.76, 0.75, 0.75, 0.75]\n",
      "recall              ,           0.30,  [0.3, 0.28, 0.3, 0.3, 0.31]\n",
      "roc_auc             ,           0.65,  [0.65, 0.65, 0.65, 0.65, 0.65]\n",
      "f1                  ,           0.33,  [0.33, 0.32, 0.33, 0.33, 0.34]\n",
      "precision           ,           0.36,  [0.36, 0.36, 0.36, 0.36, 0.36]\n"
     ]
    }
   ],
   "source": [
    "cross_validate(X_tr4, y_tr4, rfc2, threshold=0.75)"
   ]
  },
  {
   "cell_type": "markdown",
   "metadata": {},
   "source": [
    "---"
   ]
  },
  {
   "cell_type": "code",
   "execution_count": 62,
   "metadata": {},
   "outputs": [],
   "source": [
    "rfc3 = RandomForestClassifier(n_estimators=10, max_depth=10)"
   ]
  },
  {
   "cell_type": "code",
   "execution_count": 63,
   "metadata": {},
   "outputs": [
    {
     "name": "stdout",
     "output_type": "stream",
     "text": [
      "<class 'sklearn.ensemble._forest.RandomForestClassifier'>\n",
      "Means:\n",
      "accuracy_train      ,           0.63,  [0.63, 0.62, 0.64, 0.61, 0.63]\n",
      "accuracy            ,           0.62,  [0.63, 0.61, 0.63, 0.62, 0.61]\n",
      "recall              ,           0.68,  [0.67, 0.7, 0.66, 0.67, 0.69]\n",
      "roc_auc             ,           0.70,  [0.7, 0.69, 0.7, 0.69, 0.7]\n",
      "f1                  ,           0.42,  [0.42, 0.42, 0.42, 0.41, 0.42]\n",
      "precision           ,           0.30,  [0.31, 0.3, 0.31, 0.3, 0.3]\n"
     ]
    }
   ],
   "source": [
    "cross_validate(X_tr2, y_tr2, rfc3)"
   ]
  },
  {
   "cell_type": "code",
   "execution_count": 64,
   "metadata": {},
   "outputs": [
    {
     "name": "stdout",
     "output_type": "stream",
     "text": [
      "<class 'sklearn.ensemble._forest.RandomForestClassifier'>\n",
      "Means:\n",
      "accuracy_train      ,           0.81,  [0.81, 0.81, 0.81, 0.81, 0.81]\n",
      "accuracy            ,           0.80,  [0.8, 0.8, 0.8, 0.8, 0.8]\n",
      "recall              ,           0.10,  [0.09, 0.13, 0.08, 0.07, 0.12]\n",
      "roc_auc             ,           0.70,  [0.7, 0.7, 0.7, 0.69, 0.69]\n",
      "f1                  ,           0.16,  [0.15, 0.21, 0.15, 0.12, 0.19]\n",
      "precision           ,           0.57,  [0.59, 0.54, 0.58, 0.61, 0.55]\n"
     ]
    }
   ],
   "source": [
    "cross_validate(X_tr2, y_tr2, rfc3, threshold=0.75)"
   ]
  },
  {
   "cell_type": "code",
   "execution_count": 65,
   "metadata": {},
   "outputs": [
    {
     "name": "stdout",
     "output_type": "stream",
     "text": [
      "<class 'sklearn.ensemble._forest.RandomForestClassifier'>\n",
      "Means:\n",
      "accuracy_train      ,           0.61,  [0.6, 0.61, 0.61, 0.62, 0.61]\n",
      "accuracy            ,           0.60,  [0.6, 0.61, 0.6, 0.61, 0.6]\n",
      "recall              ,           0.70,  [0.72, 0.69, 0.71, 0.69, 0.71]\n",
      "roc_auc             ,           0.70,  [0.7, 0.7, 0.7, 0.7, 0.7]\n",
      "f1                  ,           0.42,  [0.42, 0.42, 0.41, 0.42, 0.42]\n",
      "precision           ,           0.29,  [0.29, 0.3, 0.29, 0.3, 0.3]\n"
     ]
    }
   ],
   "source": [
    "cross_validate(X_tr4, y_tr4, rfc3)"
   ]
  },
  {
   "cell_type": "code",
   "execution_count": 66,
   "metadata": {},
   "outputs": [
    {
     "name": "stdout",
     "output_type": "stream",
     "text": [
      "<class 'sklearn.ensemble._forest.RandomForestClassifier'>\n",
      "Means:\n",
      "accuracy_train      ,           0.81,  [0.81, 0.81, 0.81, 0.81, 0.81]\n",
      "accuracy            ,           0.81,  [0.81, 0.81, 0.81, 0.81, 0.81]\n",
      "recall              ,           0.11,  [0.09, 0.1, 0.15, 0.12, 0.12]\n",
      "roc_auc             ,           0.70,  [0.7, 0.7, 0.7, 0.7, 0.7]\n",
      "f1                  ,           0.19,  [0.15, 0.17, 0.24, 0.21, 0.2]\n",
      "precision           ,           0.62,  [0.65, 0.66, 0.57, 0.62, 0.61]\n"
     ]
    }
   ],
   "source": [
    "cross_validate(X_tr4, y_tr4, rfc3, threshold=0.75)"
   ]
  },
  {
   "cell_type": "markdown",
   "metadata": {},
   "source": [
    "##### Gradient Boosted Machine"
   ]
  },
  {
   "cell_type": "code",
   "execution_count": 116,
   "metadata": {},
   "outputs": [],
   "source": [
    "gbm = xgb.XGBClassifier( \n",
    "                       n_estimators=30000, #arbitrary large number\n",
    "                       max_depth=3,\n",
    "                       objective=\"reg:squarederror\",\n",
    "                       learning_rate=.1, \n",
    "                       subsample=1,\n",
    "                       min_child_weight=1,\n",
    "                       colsample_bytree=.8\n",
    "                      )"
   ]
  },
  {
   "cell_type": "code",
   "execution_count": 200,
   "metadata": {
    "scrolled": false
   },
   "outputs": [],
   "source": [
    "#cross_validate(X_tr2, y_tr2, gbm)"
   ]
  },
  {
   "cell_type": "code",
   "execution_count": 201,
   "metadata": {},
   "outputs": [],
   "source": [
    "#cross_validate(X_tr2, y_tr2, gbm, threshold=0.75)"
   ]
  },
  {
   "cell_type": "code",
   "execution_count": 202,
   "metadata": {},
   "outputs": [],
   "source": [
    "#cross_validate(X_tr4, y_tr4, gbm)"
   ]
  },
  {
   "cell_type": "code",
   "execution_count": 203,
   "metadata": {},
   "outputs": [],
   "source": [
    "#cross_validate(X_tr4, y_tr4, gbm, threshold=0.75)"
   ]
  },
  {
   "cell_type": "code",
   "execution_count": 45,
   "metadata": {},
   "outputs": [],
   "source": [
    "gbm2 = xgb.XGBClassifier( \n",
    "                       n_estimators=100,\n",
    "                       max_depth=3,\n",
    "                       objective=\"reg:squarederror\",\n",
    "                       learning_rate=.1, \n",
    "                       subsample=1,\n",
    "                       min_child_weight=1,\n",
    "                       colsample_bytree=.8\n",
    "                      )"
   ]
  },
  {
   "cell_type": "code",
   "execution_count": 67,
   "metadata": {},
   "outputs": [
    {
     "name": "stderr",
     "output_type": "stream",
     "text": [
      "/home/mattrimol/anaconda3/lib/python3.8/site-packages/xgboost/sklearn.py:888: UserWarning: The use of label encoder in XGBClassifier is deprecated and will be removed in a future release. To remove this warning, do the following: 1) Pass option use_label_encoder=False when constructing XGBClassifier object; and 2) Encode your labels (y) as integers starting with 0, i.e. 0, 1, 2, ..., [num_class - 1].\n",
      "  warnings.warn(label_encoder_deprecation_msg, UserWarning)\n",
      "/home/mattrimol/anaconda3/lib/python3.8/site-packages/xgboost/sklearn.py:888: UserWarning: The use of label encoder in XGBClassifier is deprecated and will be removed in a future release. To remove this warning, do the following: 1) Pass option use_label_encoder=False when constructing XGBClassifier object; and 2) Encode your labels (y) as integers starting with 0, i.e. 0, 1, 2, ..., [num_class - 1].\n",
      "  warnings.warn(label_encoder_deprecation_msg, UserWarning)\n",
      "/home/mattrimol/anaconda3/lib/python3.8/site-packages/xgboost/sklearn.py:888: UserWarning: The use of label encoder in XGBClassifier is deprecated and will be removed in a future release. To remove this warning, do the following: 1) Pass option use_label_encoder=False when constructing XGBClassifier object; and 2) Encode your labels (y) as integers starting with 0, i.e. 0, 1, 2, ..., [num_class - 1].\n",
      "  warnings.warn(label_encoder_deprecation_msg, UserWarning)\n",
      "/home/mattrimol/anaconda3/lib/python3.8/site-packages/xgboost/sklearn.py:888: UserWarning: The use of label encoder in XGBClassifier is deprecated and will be removed in a future release. To remove this warning, do the following: 1) Pass option use_label_encoder=False when constructing XGBClassifier object; and 2) Encode your labels (y) as integers starting with 0, i.e. 0, 1, 2, ..., [num_class - 1].\n",
      "  warnings.warn(label_encoder_deprecation_msg, UserWarning)\n",
      "/home/mattrimol/anaconda3/lib/python3.8/site-packages/xgboost/sklearn.py:888: UserWarning: The use of label encoder in XGBClassifier is deprecated and will be removed in a future release. To remove this warning, do the following: 1) Pass option use_label_encoder=False when constructing XGBClassifier object; and 2) Encode your labels (y) as integers starting with 0, i.e. 0, 1, 2, ..., [num_class - 1].\n",
      "  warnings.warn(label_encoder_deprecation_msg, UserWarning)\n"
     ]
    },
    {
     "name": "stdout",
     "output_type": "stream",
     "text": [
      "<class 'xgboost.sklearn.XGBClassifier'>\n",
      "Means:\n",
      "accuracy_train      ,           0.68,  [0.67, 0.68, 0.68, 0.67, 0.67]\n",
      "accuracy            ,           0.68,  [0.68, 0.66, 0.68, 0.7, 0.66]\n",
      "recall              ,           0.40,  [0.4, 0.42, 0.39, 0.36, 0.43]\n",
      "roc_auc             ,           0.60,  [0.6, 0.6, 0.6, 0.59, 0.6]\n",
      "f1                  ,           0.33,  [0.33, 0.34, 0.33, 0.32, 0.34]\n",
      "precision           ,           0.28,  [0.29, 0.28, 0.29, 0.29, 0.28]\n"
     ]
    }
   ],
   "source": [
    "cross_validate(X_tr1, y_tr1, gbm2)"
   ]
  },
  {
   "cell_type": "code",
   "execution_count": 68,
   "metadata": {
    "scrolled": false
   },
   "outputs": [
    {
     "name": "stderr",
     "output_type": "stream",
     "text": [
      "/home/mattrimol/anaconda3/lib/python3.8/site-packages/xgboost/sklearn.py:888: UserWarning: The use of label encoder in XGBClassifier is deprecated and will be removed in a future release. To remove this warning, do the following: 1) Pass option use_label_encoder=False when constructing XGBClassifier object; and 2) Encode your labels (y) as integers starting with 0, i.e. 0, 1, 2, ..., [num_class - 1].\n",
      "  warnings.warn(label_encoder_deprecation_msg, UserWarning)\n",
      "/home/mattrimol/anaconda3/lib/python3.8/site-packages/xgboost/sklearn.py:888: UserWarning: The use of label encoder in XGBClassifier is deprecated and will be removed in a future release. To remove this warning, do the following: 1) Pass option use_label_encoder=False when constructing XGBClassifier object; and 2) Encode your labels (y) as integers starting with 0, i.e. 0, 1, 2, ..., [num_class - 1].\n",
      "  warnings.warn(label_encoder_deprecation_msg, UserWarning)\n",
      "/home/mattrimol/anaconda3/lib/python3.8/site-packages/xgboost/sklearn.py:888: UserWarning: The use of label encoder in XGBClassifier is deprecated and will be removed in a future release. To remove this warning, do the following: 1) Pass option use_label_encoder=False when constructing XGBClassifier object; and 2) Encode your labels (y) as integers starting with 0, i.e. 0, 1, 2, ..., [num_class - 1].\n",
      "  warnings.warn(label_encoder_deprecation_msg, UserWarning)\n",
      "/home/mattrimol/anaconda3/lib/python3.8/site-packages/xgboost/sklearn.py:888: UserWarning: The use of label encoder in XGBClassifier is deprecated and will be removed in a future release. To remove this warning, do the following: 1) Pass option use_label_encoder=False when constructing XGBClassifier object; and 2) Encode your labels (y) as integers starting with 0, i.e. 0, 1, 2, ..., [num_class - 1].\n",
      "  warnings.warn(label_encoder_deprecation_msg, UserWarning)\n",
      "/home/mattrimol/anaconda3/lib/python3.8/site-packages/xgboost/sklearn.py:888: UserWarning: The use of label encoder in XGBClassifier is deprecated and will be removed in a future release. To remove this warning, do the following: 1) Pass option use_label_encoder=False when constructing XGBClassifier object; and 2) Encode your labels (y) as integers starting with 0, i.e. 0, 1, 2, ..., [num_class - 1].\n",
      "  warnings.warn(label_encoder_deprecation_msg, UserWarning)\n"
     ]
    },
    {
     "name": "stdout",
     "output_type": "stream",
     "text": [
      "<class 'xgboost.sklearn.XGBClassifier'>\n",
      "Means:\n",
      "accuracy_train      ,           0.65,  [0.64, 0.64, 0.65, 0.65, 0.65]\n",
      "accuracy            ,           0.64,  [0.64, 0.64, 0.64, 0.66, 0.63]\n",
      "recall              ,           0.65,  [0.65, 0.66, 0.65, 0.62, 0.66]\n",
      "roc_auc             ,           0.70,  [0.7, 0.7, 0.7, 0.7, 0.7]\n",
      "f1                  ,           0.42,  [0.42, 0.42, 0.42, 0.42, 0.42]\n",
      "precision           ,           0.31,  [0.31, 0.31, 0.31, 0.32, 0.31]\n"
     ]
    }
   ],
   "source": [
    "cross_validate(X_tr2, y_tr2, gbm2)"
   ]
  },
  {
   "cell_type": "code",
   "execution_count": 69,
   "metadata": {},
   "outputs": [
    {
     "name": "stderr",
     "output_type": "stream",
     "text": [
      "/home/mattrimol/anaconda3/lib/python3.8/site-packages/xgboost/sklearn.py:888: UserWarning: The use of label encoder in XGBClassifier is deprecated and will be removed in a future release. To remove this warning, do the following: 1) Pass option use_label_encoder=False when constructing XGBClassifier object; and 2) Encode your labels (y) as integers starting with 0, i.e. 0, 1, 2, ..., [num_class - 1].\n",
      "  warnings.warn(label_encoder_deprecation_msg, UserWarning)\n",
      "/home/mattrimol/anaconda3/lib/python3.8/site-packages/xgboost/sklearn.py:888: UserWarning: The use of label encoder in XGBClassifier is deprecated and will be removed in a future release. To remove this warning, do the following: 1) Pass option use_label_encoder=False when constructing XGBClassifier object; and 2) Encode your labels (y) as integers starting with 0, i.e. 0, 1, 2, ..., [num_class - 1].\n",
      "  warnings.warn(label_encoder_deprecation_msg, UserWarning)\n",
      "/home/mattrimol/anaconda3/lib/python3.8/site-packages/xgboost/sklearn.py:888: UserWarning: The use of label encoder in XGBClassifier is deprecated and will be removed in a future release. To remove this warning, do the following: 1) Pass option use_label_encoder=False when constructing XGBClassifier object; and 2) Encode your labels (y) as integers starting with 0, i.e. 0, 1, 2, ..., [num_class - 1].\n",
      "  warnings.warn(label_encoder_deprecation_msg, UserWarning)\n",
      "/home/mattrimol/anaconda3/lib/python3.8/site-packages/xgboost/sklearn.py:888: UserWarning: The use of label encoder in XGBClassifier is deprecated and will be removed in a future release. To remove this warning, do the following: 1) Pass option use_label_encoder=False when constructing XGBClassifier object; and 2) Encode your labels (y) as integers starting with 0, i.e. 0, 1, 2, ..., [num_class - 1].\n",
      "  warnings.warn(label_encoder_deprecation_msg, UserWarning)\n",
      "/home/mattrimol/anaconda3/lib/python3.8/site-packages/xgboost/sklearn.py:888: UserWarning: The use of label encoder in XGBClassifier is deprecated and will be removed in a future release. To remove this warning, do the following: 1) Pass option use_label_encoder=False when constructing XGBClassifier object; and 2) Encode your labels (y) as integers starting with 0, i.e. 0, 1, 2, ..., [num_class - 1].\n",
      "  warnings.warn(label_encoder_deprecation_msg, UserWarning)\n"
     ]
    },
    {
     "name": "stdout",
     "output_type": "stream",
     "text": [
      "<class 'xgboost.sklearn.XGBClassifier'>\n",
      "Means:\n",
      "accuracy_train      ,           0.62,  [0.62, 0.61, 0.62, 0.62, 0.63]\n",
      "accuracy            ,           0.62,  [0.6, 0.61, 0.62, 0.61, 0.64]\n",
      "recall              ,           0.65,  [0.67, 0.66, 0.65, 0.66, 0.6]\n",
      "roc_auc             ,           0.68,  [0.68, 0.68, 0.68, 0.68, 0.68]\n",
      "f1                  ,           0.40,  [0.4, 0.4, 0.4, 0.41, 0.4]\n",
      "precision           ,           0.29,  [0.29, 0.29, 0.29, 0.29, 0.3]\n"
     ]
    }
   ],
   "source": [
    "cross_validate(X_tr3, y_tr3, gbm2)"
   ]
  },
  {
   "cell_type": "code",
   "execution_count": 70,
   "metadata": {
    "scrolled": false
   },
   "outputs": [
    {
     "name": "stderr",
     "output_type": "stream",
     "text": [
      "/home/mattrimol/anaconda3/lib/python3.8/site-packages/xgboost/sklearn.py:888: UserWarning: The use of label encoder in XGBClassifier is deprecated and will be removed in a future release. To remove this warning, do the following: 1) Pass option use_label_encoder=False when constructing XGBClassifier object; and 2) Encode your labels (y) as integers starting with 0, i.e. 0, 1, 2, ..., [num_class - 1].\n",
      "  warnings.warn(label_encoder_deprecation_msg, UserWarning)\n",
      "/home/mattrimol/anaconda3/lib/python3.8/site-packages/xgboost/sklearn.py:888: UserWarning: The use of label encoder in XGBClassifier is deprecated and will be removed in a future release. To remove this warning, do the following: 1) Pass option use_label_encoder=False when constructing XGBClassifier object; and 2) Encode your labels (y) as integers starting with 0, i.e. 0, 1, 2, ..., [num_class - 1].\n",
      "  warnings.warn(label_encoder_deprecation_msg, UserWarning)\n",
      "/home/mattrimol/anaconda3/lib/python3.8/site-packages/xgboost/sklearn.py:888: UserWarning: The use of label encoder in XGBClassifier is deprecated and will be removed in a future release. To remove this warning, do the following: 1) Pass option use_label_encoder=False when constructing XGBClassifier object; and 2) Encode your labels (y) as integers starting with 0, i.e. 0, 1, 2, ..., [num_class - 1].\n",
      "  warnings.warn(label_encoder_deprecation_msg, UserWarning)\n",
      "/home/mattrimol/anaconda3/lib/python3.8/site-packages/xgboost/sklearn.py:888: UserWarning: The use of label encoder in XGBClassifier is deprecated and will be removed in a future release. To remove this warning, do the following: 1) Pass option use_label_encoder=False when constructing XGBClassifier object; and 2) Encode your labels (y) as integers starting with 0, i.e. 0, 1, 2, ..., [num_class - 1].\n",
      "  warnings.warn(label_encoder_deprecation_msg, UserWarning)\n",
      "/home/mattrimol/anaconda3/lib/python3.8/site-packages/xgboost/sklearn.py:888: UserWarning: The use of label encoder in XGBClassifier is deprecated and will be removed in a future release. To remove this warning, do the following: 1) Pass option use_label_encoder=False when constructing XGBClassifier object; and 2) Encode your labels (y) as integers starting with 0, i.e. 0, 1, 2, ..., [num_class - 1].\n",
      "  warnings.warn(label_encoder_deprecation_msg, UserWarning)\n"
     ]
    },
    {
     "name": "stdout",
     "output_type": "stream",
     "text": [
      "<class 'xgboost.sklearn.XGBClassifier'>\n",
      "Means:\n",
      "accuracy_train      ,           0.65,  [0.65, 0.65, 0.64, 0.65, 0.65]\n",
      "accuracy            ,           0.64,  [0.65, 0.66, 0.63, 0.65, 0.64]\n",
      "recall              ,           0.66,  [0.66, 0.63, 0.67, 0.65, 0.67]\n",
      "roc_auc             ,           0.71,  [0.71, 0.71, 0.7, 0.71, 0.71]\n",
      "f1                  ,           0.42,  [0.43, 0.43, 0.42, 0.42, 0.42]\n",
      "precision           ,           0.31,  [0.32, 0.32, 0.31, 0.32, 0.31]\n"
     ]
    }
   ],
   "source": [
    "cross_validate(X_tr4, y_tr4, gbm2)"
   ]
  },
  {
   "cell_type": "code",
   "execution_count": 71,
   "metadata": {},
   "outputs": [
    {
     "name": "stderr",
     "output_type": "stream",
     "text": [
      "/home/mattrimol/anaconda3/lib/python3.8/site-packages/xgboost/sklearn.py:888: UserWarning: The use of label encoder in XGBClassifier is deprecated and will be removed in a future release. To remove this warning, do the following: 1) Pass option use_label_encoder=False when constructing XGBClassifier object; and 2) Encode your labels (y) as integers starting with 0, i.e. 0, 1, 2, ..., [num_class - 1].\n",
      "  warnings.warn(label_encoder_deprecation_msg, UserWarning)\n",
      "/home/mattrimol/anaconda3/lib/python3.8/site-packages/xgboost/sklearn.py:888: UserWarning: The use of label encoder in XGBClassifier is deprecated and will be removed in a future release. To remove this warning, do the following: 1) Pass option use_label_encoder=False when constructing XGBClassifier object; and 2) Encode your labels (y) as integers starting with 0, i.e. 0, 1, 2, ..., [num_class - 1].\n",
      "  warnings.warn(label_encoder_deprecation_msg, UserWarning)\n",
      "/home/mattrimol/anaconda3/lib/python3.8/site-packages/xgboost/sklearn.py:888: UserWarning: The use of label encoder in XGBClassifier is deprecated and will be removed in a future release. To remove this warning, do the following: 1) Pass option use_label_encoder=False when constructing XGBClassifier object; and 2) Encode your labels (y) as integers starting with 0, i.e. 0, 1, 2, ..., [num_class - 1].\n",
      "  warnings.warn(label_encoder_deprecation_msg, UserWarning)\n",
      "/home/mattrimol/anaconda3/lib/python3.8/site-packages/xgboost/sklearn.py:888: UserWarning: The use of label encoder in XGBClassifier is deprecated and will be removed in a future release. To remove this warning, do the following: 1) Pass option use_label_encoder=False when constructing XGBClassifier object; and 2) Encode your labels (y) as integers starting with 0, i.e. 0, 1, 2, ..., [num_class - 1].\n",
      "  warnings.warn(label_encoder_deprecation_msg, UserWarning)\n",
      "/home/mattrimol/anaconda3/lib/python3.8/site-packages/xgboost/sklearn.py:888: UserWarning: The use of label encoder in XGBClassifier is deprecated and will be removed in a future release. To remove this warning, do the following: 1) Pass option use_label_encoder=False when constructing XGBClassifier object; and 2) Encode your labels (y) as integers starting with 0, i.e. 0, 1, 2, ..., [num_class - 1].\n",
      "  warnings.warn(label_encoder_deprecation_msg, UserWarning)\n"
     ]
    },
    {
     "name": "stdout",
     "output_type": "stream",
     "text": [
      "<class 'xgboost.sklearn.XGBClassifier'>\n",
      "Means:\n",
      "accuracy_train      ,           0.61,  [0.61, 0.61, 0.62, 0.61, 0.61]\n",
      "accuracy            ,           0.61,  [0.6, 0.61, 0.61, 0.61, 0.62]\n",
      "recall              ,           0.68,  [0.7, 0.69, 0.68, 0.69, 0.66]\n",
      "roc_auc             ,           0.70,  [0.7, 0.7, 0.7, 0.7, 0.69]\n",
      "f1                  ,           0.41,  [0.41, 0.42, 0.41, 0.41, 0.41]\n",
      "precision           ,           0.30,  [0.29, 0.3, 0.3, 0.3, 0.3]\n"
     ]
    }
   ],
   "source": [
    "cross_validate(X_tr5, y_tr5, gbm2)"
   ]
  },
  {
   "cell_type": "code",
   "execution_count": 72,
   "metadata": {},
   "outputs": [
    {
     "name": "stderr",
     "output_type": "stream",
     "text": [
      "/home/mattrimol/anaconda3/lib/python3.8/site-packages/xgboost/sklearn.py:888: UserWarning: The use of label encoder in XGBClassifier is deprecated and will be removed in a future release. To remove this warning, do the following: 1) Pass option use_label_encoder=False when constructing XGBClassifier object; and 2) Encode your labels (y) as integers starting with 0, i.e. 0, 1, 2, ..., [num_class - 1].\n",
      "  warnings.warn(label_encoder_deprecation_msg, UserWarning)\n",
      "/home/mattrimol/anaconda3/lib/python3.8/site-packages/xgboost/sklearn.py:888: UserWarning: The use of label encoder in XGBClassifier is deprecated and will be removed in a future release. To remove this warning, do the following: 1) Pass option use_label_encoder=False when constructing XGBClassifier object; and 2) Encode your labels (y) as integers starting with 0, i.e. 0, 1, 2, ..., [num_class - 1].\n",
      "  warnings.warn(label_encoder_deprecation_msg, UserWarning)\n",
      "/home/mattrimol/anaconda3/lib/python3.8/site-packages/xgboost/sklearn.py:888: UserWarning: The use of label encoder in XGBClassifier is deprecated and will be removed in a future release. To remove this warning, do the following: 1) Pass option use_label_encoder=False when constructing XGBClassifier object; and 2) Encode your labels (y) as integers starting with 0, i.e. 0, 1, 2, ..., [num_class - 1].\n",
      "  warnings.warn(label_encoder_deprecation_msg, UserWarning)\n",
      "/home/mattrimol/anaconda3/lib/python3.8/site-packages/xgboost/sklearn.py:888: UserWarning: The use of label encoder in XGBClassifier is deprecated and will be removed in a future release. To remove this warning, do the following: 1) Pass option use_label_encoder=False when constructing XGBClassifier object; and 2) Encode your labels (y) as integers starting with 0, i.e. 0, 1, 2, ..., [num_class - 1].\n",
      "  warnings.warn(label_encoder_deprecation_msg, UserWarning)\n",
      "/home/mattrimol/anaconda3/lib/python3.8/site-packages/xgboost/sklearn.py:888: UserWarning: The use of label encoder in XGBClassifier is deprecated and will be removed in a future release. To remove this warning, do the following: 1) Pass option use_label_encoder=False when constructing XGBClassifier object; and 2) Encode your labels (y) as integers starting with 0, i.e. 0, 1, 2, ..., [num_class - 1].\n",
      "  warnings.warn(label_encoder_deprecation_msg, UserWarning)\n"
     ]
    },
    {
     "name": "stdout",
     "output_type": "stream",
     "text": [
      "<class 'xgboost.sklearn.XGBClassifier'>\n",
      "Means:\n",
      "accuracy_train      ,           0.70,  [0.7, 0.7, 0.7, 0.7, 0.7]\n",
      "accuracy            ,           0.69,  [0.69, 0.73, 0.67, 0.7, 0.67]\n",
      "recall              ,           0.42,  [0.43, 0.34, 0.45, 0.41, 0.45]\n",
      "roc_auc             ,           0.63,  [0.63, 0.63, 0.62, 0.63, 0.63]\n",
      "f1                  ,           0.35,  [0.36, 0.34, 0.35, 0.35, 0.36]\n",
      "precision           ,           0.31,  [0.3, 0.34, 0.29, 0.31, 0.3]\n"
     ]
    }
   ],
   "source": [
    "cross_validate(X_tr6, y_tr6, gbm2)"
   ]
  },
  {
   "cell_type": "code",
   "execution_count": 73,
   "metadata": {},
   "outputs": [
    {
     "name": "stderr",
     "output_type": "stream",
     "text": [
      "/home/mattrimol/anaconda3/lib/python3.8/site-packages/xgboost/sklearn.py:888: UserWarning: The use of label encoder in XGBClassifier is deprecated and will be removed in a future release. To remove this warning, do the following: 1) Pass option use_label_encoder=False when constructing XGBClassifier object; and 2) Encode your labels (y) as integers starting with 0, i.e. 0, 1, 2, ..., [num_class - 1].\n",
      "  warnings.warn(label_encoder_deprecation_msg, UserWarning)\n",
      "/home/mattrimol/anaconda3/lib/python3.8/site-packages/xgboost/sklearn.py:888: UserWarning: The use of label encoder in XGBClassifier is deprecated and will be removed in a future release. To remove this warning, do the following: 1) Pass option use_label_encoder=False when constructing XGBClassifier object; and 2) Encode your labels (y) as integers starting with 0, i.e. 0, 1, 2, ..., [num_class - 1].\n",
      "  warnings.warn(label_encoder_deprecation_msg, UserWarning)\n",
      "/home/mattrimol/anaconda3/lib/python3.8/site-packages/xgboost/sklearn.py:888: UserWarning: The use of label encoder in XGBClassifier is deprecated and will be removed in a future release. To remove this warning, do the following: 1) Pass option use_label_encoder=False when constructing XGBClassifier object; and 2) Encode your labels (y) as integers starting with 0, i.e. 0, 1, 2, ..., [num_class - 1].\n",
      "  warnings.warn(label_encoder_deprecation_msg, UserWarning)\n",
      "/home/mattrimol/anaconda3/lib/python3.8/site-packages/xgboost/sklearn.py:888: UserWarning: The use of label encoder in XGBClassifier is deprecated and will be removed in a future release. To remove this warning, do the following: 1) Pass option use_label_encoder=False when constructing XGBClassifier object; and 2) Encode your labels (y) as integers starting with 0, i.e. 0, 1, 2, ..., [num_class - 1].\n",
      "  warnings.warn(label_encoder_deprecation_msg, UserWarning)\n",
      "/home/mattrimol/anaconda3/lib/python3.8/site-packages/xgboost/sklearn.py:888: UserWarning: The use of label encoder in XGBClassifier is deprecated and will be removed in a future release. To remove this warning, do the following: 1) Pass option use_label_encoder=False when constructing XGBClassifier object; and 2) Encode your labels (y) as integers starting with 0, i.e. 0, 1, 2, ..., [num_class - 1].\n",
      "  warnings.warn(label_encoder_deprecation_msg, UserWarning)\n"
     ]
    },
    {
     "name": "stdout",
     "output_type": "stream",
     "text": [
      "<class 'xgboost.sklearn.XGBClassifier'>\n",
      "Means:\n",
      "accuracy_train      ,           0.58,  [0.58, 0.59, 0.58, 0.59, 0.59]\n",
      "accuracy            ,           0.58,  [0.58, 0.6, 0.57, 0.58, 0.58]\n",
      "recall              ,           0.69,  [0.7, 0.68, 0.7, 0.69, 0.7]\n",
      "roc_auc             ,           0.68,  [0.68, 0.68, 0.68, 0.68, 0.68]\n",
      "f1                  ,           0.40,  [0.4, 0.4, 0.4, 0.4, 0.4]\n",
      "precision           ,           0.28,  [0.28, 0.29, 0.28, 0.28, 0.28]\n"
     ]
    }
   ],
   "source": [
    "cross_validate(X_tr7, y_tr7, gbm2)"
   ]
  },
  {
   "cell_type": "code",
   "execution_count": null,
   "metadata": {},
   "outputs": [],
   "source": [
    "#cross_validate(X_tr2, y_tr2, gbm2, threshold=0.75)"
   ]
  },
  {
   "cell_type": "code",
   "execution_count": 174,
   "metadata": {},
   "outputs": [],
   "source": [
    "#cross_validate(X_tr4, y_tr4, gbm2, threshold=0.75)"
   ]
  },
  {
   "cell_type": "markdown",
   "metadata": {},
   "source": [
    "#### Testing on Best Model"
   ]
  },
  {
   "cell_type": "code",
   "execution_count": 74,
   "metadata": {},
   "outputs": [
    {
     "name": "stdout",
     "output_type": "stream",
     "text": [
      "property_type_name\n",
      "loan_purpose_name\n",
      "owner_occupancy_name\n",
      "msamd_name\n",
      "applicant_ethnicity_name\n",
      "applicant_race_name_1\n",
      "applicant_sex_name\n",
      "population\n",
      "minority_population\n",
      "tract_to_msamd_income\n",
      "has_coapplicant\n",
      "loan_amount/applicant_income\n",
      "action_taken_name\n"
     ]
    }
   ],
   "source": [
    "get_cols(model4)"
   ]
  },
  {
   "cell_type": "code",
   "execution_count": 75,
   "metadata": {},
   "outputs": [],
   "source": [
    "import copy"
   ]
  },
  {
   "cell_type": "code",
   "execution_count": 76,
   "metadata": {},
   "outputs": [],
   "source": [
    "X_train = copy.deepcopy(X_tr4)\n",
    "X_test = copy.deepcopy(X_te4)\n",
    "y_train = copy.deepcopy(y_tr4)\n",
    "y_test = copy.deepcopy(y_te4)"
   ]
  },
  {
   "cell_type": "code",
   "execution_count": 77,
   "metadata": {},
   "outputs": [],
   "source": [
    "model = gbm2"
   ]
  },
  {
   "cell_type": "code",
   "execution_count": 78,
   "metadata": {},
   "outputs": [],
   "source": [
    "#preprocess X sets\n",
    "X_tr_proc, X_te_proc = preprocess_columns(X_train, X_test)\n",
    "\n",
    "#Balance pos/neg class with undersampling\n",
    "X_tr_rs, y_tr_rs = under_sample_bal(X_tr_proc, y_train)\n",
    "#print(np.sum(y_tr_rs == 1), np.sum(y_tr_rs == 0)) ###Checker to make sure balanced right"
   ]
  },
  {
   "cell_type": "code",
   "execution_count": 92,
   "metadata": {},
   "outputs": [
    {
     "data": {
      "text/plain": [
       "(317434, 50)"
      ]
     },
     "execution_count": 92,
     "metadata": {},
     "output_type": "execute_result"
    }
   ],
   "source": [
    "X_tr_rs.shape"
   ]
  },
  {
   "cell_type": "code",
   "execution_count": 93,
   "metadata": {},
   "outputs": [
    {
     "data": {
      "text/plain": [
       "(198265, 50)"
      ]
     },
     "execution_count": 93,
     "metadata": {},
     "output_type": "execute_result"
    }
   ],
   "source": [
    "X_te_proc.shape"
   ]
  },
  {
   "cell_type": "code",
   "execution_count": 81,
   "metadata": {},
   "outputs": [
    {
     "name": "stderr",
     "output_type": "stream",
     "text": [
      "/home/mattrimol/anaconda3/lib/python3.8/site-packages/xgboost/sklearn.py:888: UserWarning: The use of label encoder in XGBClassifier is deprecated and will be removed in a future release. To remove this warning, do the following: 1) Pass option use_label_encoder=False when constructing XGBClassifier object; and 2) Encode your labels (y) as integers starting with 0, i.e. 0, 1, 2, ..., [num_class - 1].\n",
      "  warnings.warn(label_encoder_deprecation_msg, UserWarning)\n"
     ]
    }
   ],
   "source": [
    "#fit to train\n",
    "model = model.fit(X_tr_rs, y_tr_rs)"
   ]
  },
  {
   "cell_type": "code",
   "execution_count": 84,
   "metadata": {},
   "outputs": [],
   "source": [
    "threshold = 0.50"
   ]
  },
  {
   "cell_type": "code",
   "execution_count": 85,
   "metadata": {},
   "outputs": [],
   "source": [
    "#Generate probabilities for variable threshold\n",
    "y_proba_train = model.predict_proba(X_tr_proc)\n",
    "y_pred_train = (y_proba_train[:,1] >= threshold).astype('int')\n",
    "\n",
    "y_pred_proba = model.predict_proba(X_te_proc)\n",
    "y_pred = (y_pred_proba[:,1] >= threshold).astype('int')\n",
    "\n",
    "# Score\n",
    "\n",
    "### To score training data use:\n",
    "        # y_train\n",
    "        # y_pred_train\n",
    "### To score test data use:\n",
    "        # y_test\n",
    "        # y_pred"
   ]
  },
  {
   "cell_type": "code",
   "execution_count": 86,
   "metadata": {},
   "outputs": [
    {
     "name": "stdout",
     "output_type": "stream",
     "text": [
      "Accuracy Train: 0.6487747428309153\n",
      "Accuracy Test: 0.6477643557864474\n",
      "\n",
      "Recall: 0.6509190946604977\n",
      "Precision: 0.31777058787619805\n",
      "\n",
      "roc_auc: 0.7081609563341118\n",
      "\n",
      "F1 Score: 0.42705718270571824\n",
      "\n",
      "Confusion Matrix:\n",
      "[[102402  55878]\n",
      " [ 13958  26027]]\n"
     ]
    }
   ],
   "source": [
    "accuracy_train = metrics.accuracy_score(y_train, y_pred_train)\n",
    "accuracy_test = metrics.accuracy_score(y_test, y_pred)\n",
    "print(f'Accuracy Train: {accuracy_train}')\n",
    "print(f'Accuracy Test: {accuracy_test}')\n",
    "\n",
    "recall = metrics.recall_score(y_test, y_pred)\n",
    "precision = metrics.precision_score(y_test, y_pred)\n",
    "print(f'\\nRecall: {recall}')\n",
    "print(f'Precision: {precision}')\n",
    "\n",
    "roc_auc = metrics.roc_auc_score(y_test, y_pred_proba[:,1])\n",
    "print(f'\\nroc_auc: {roc_auc}')\n",
    "\n",
    "f1 = metrics.f1_score(y_test, y_pred)\n",
    "print(f'\\nF1 Score: {f1}')\n",
    "\n",
    "conf_matrix = metrics.confusion_matrix(y_test, y_pred)\n",
    "print(f'\\nConfusion Matrix:\\n{conf_matrix}')"
   ]
  },
  {
   "cell_type": "code",
   "execution_count": 87,
   "metadata": {},
   "outputs": [
    {
     "name": "stdout",
     "output_type": "stream",
     "text": [
      "ROC AUC score =  0.7081609563341118\n"
     ]
    },
    {
     "data": {
      "image/png": "[encoded data removed]",
      "text/plain": [
       "<Figure size 432x288 with 1 Axes>"
      ]
     },
     "metadata": {
      "needs_background": "light"
     },
     "output_type": "display_data"
    }
   ],
   "source": [
    "#ROC Graph\n",
    "fpr, tpr, thresholds = metrics.roc_curve(y_test, y_pred_proba[:,1])\n",
    "plt.plot(fpr, tpr,lw=2)\n",
    "plt.plot([0,1],[0,1],c='violet',ls='--')\n",
    "plt.xlim([-0.05,1.05])\n",
    "plt.ylim([-0.05,1.05])\n",
    "\n",
    "plt.xlabel('False positive rate')\n",
    "plt.ylabel('True positive rate')\n",
    "plt.title('ROC curve');\n",
    "print(\"ROC AUC score = \", metrics.roc_auc_score(y_test, y_pred_proba[:,1]))"
   ]
  },
  {
   "cell_type": "code",
   "execution_count": 88,
   "metadata": {},
   "outputs": [
    {
     "data": {
      "text/plain": [
       "<Figure size 7200x14400 with 0 Axes>"
      ]
     },
     "metadata": {},
     "output_type": "display_data"
    },
    {
     "data": {
      "image/png": "[encoded data removed]",
      "text/plain": [
       "<Figure size 432x288 with 1 Axes>"
      ]
     },
     "metadata": {
      "needs_background": "light"
     },
     "output_type": "display_data"
    },
    {
     "data": {
      "image/png": "[encoded data removed]",
      "text/plain": [
       "<Figure size 432x288 with 1 Axes>"
      ]
     },
     "metadata": {
      "needs_background": "light"
     },
     "output_type": "display_data"
    }
   ],
   "source": [
    "plt.figure(figsize=(100, 200))\n",
    "xgb.plot_importance(model)\n",
    "xgb.plot_importance(model, importance_type='gain')\n",
    "plt.show()"
   ]
  },
  {
   "cell_type": "code",
   "execution_count": 89,
   "metadata": {},
   "outputs": [
    {
     "data": {
      "text/plain": [
       "{'loan_purpose_name_Home purchase': 62,\n",
       " 'has_coapplicant': 25,\n",
       " 'applicant_race_name_1_Info not provided': 15,\n",
       " 'applicant_race_name_1_White': 23,\n",
       " 'property_type_name_1 to 4 family (excl. manufactured)': 36,\n",
       " 'minority_population': 53,\n",
       " 'loan_amount/applicant_income': 166,\n",
       " 'owner_occupancy_name_Owner-occupied as a principal dwelling': 26,\n",
       " 'loan_purpose_name_Refinancing': 24,\n",
       " 'applicant_ethnicity_name_Not Hispanic or Latino': 7,\n",
       " 'owner_occupancy_name_Not owner-occupied as a principal dwelling': 13,\n",
       " 'applicant_race_name_1_Asian': 8,\n",
       " 'tract_to_msamd_income': 61,\n",
       " 'msamd_name_Riverside, San Bernardino, Ontario - CA': 19,\n",
       " 'applicant_race_name_1_Black or African American': 11,\n",
       " 'msamd_name_San Diego, Carlsbad - CA': 2,\n",
       " 'applicant_ethnicity_name_Hispanic or Latino': 10,\n",
       " 'msamd_name_San Jose, Sunnyvale, Santa Clara - CA': 14,\n",
       " 'applicant_sex_name_Info not provided': 17,\n",
       " 'applicant_ethnicity_name_Info not provided': 3,\n",
       " 'msamd_name_Bakersfield - CA': 10,\n",
       " 'applicant_sex_name_Male': 1,\n",
       " 'msamd_name_San Francisco, Redwood City, South San Francisco - CA': 11,\n",
       " 'msamd_name_Los Angeles, Long Beach, Glendale - CA': 5,\n",
       " 'msamd_name_Oakland, Hayward, Berkeley - CA': 10,\n",
       " 'population': 20,\n",
       " 'msamd_name_El Centro - CA': 2,\n",
       " 'msamd_name_Fresno - CA': 8,\n",
       " 'msamd_name_Visalia, Porterville - CA': 5,\n",
       " 'msamd_name_Stockton, Lodi - CA': 5,\n",
       " 'msamd_name_San Rafael - CA': 4,\n",
       " 'applicant_sex_name_Female': 4,\n",
       " 'msamd_name_Yuba City - CA': 6,\n",
       " 'msamd_name_Sacramento, Roseville, Arden-Arcade - CA': 1,\n",
       " 'applicant_race_name_1_American Indian or Alaska Native': 3,\n",
       " 'msamd_name_Madera - CA': 3,\n",
       " 'msamd_name_Santa Rosa - CA': 2,\n",
       " 'msamd_name_Modesto - CA': 2,\n",
       " 'msamd_name_Merced - CA': 1,\n",
       " 'msamd_name_Anaheim, Santa Ana, Irvine - CA': 1,\n",
       " 'msamd_name_San Luis Obispo, Paso Robles, Arroyo Grande - CA': 1}"
      ]
     },
     "execution_count": 89,
     "metadata": {},
     "output_type": "execute_result"
    }
   ],
   "source": [
    "model.get_booster().get_score(importance_type='weight') #extract raw frequency scores"
   ]
  },
  {
   "cell_type": "code",
   "execution_count": 90,
   "metadata": {},
   "outputs": [
    {
     "data": {
      "text/plain": [
       "{'loan_purpose_name_Home purchase': 276.5334628083871,\n",
       " 'has_coapplicant': 50.99094838676001,\n",
       " 'applicant_race_name_1_Info not provided': 22.980633843466666,\n",
       " 'applicant_race_name_1_White': 58.211344302608694,\n",
       " 'property_type_name_1 to 4 family (excl. manufactured)': 183.65652147916663,\n",
       " 'minority_population': 8.628086782849056,\n",
       " 'loan_amount/applicant_income': 137.8506650044216,\n",
       " 'owner_occupancy_name_Owner-occupied as a principal dwelling': 20.224584933461536,\n",
       " 'loan_purpose_name_Refinancing': 58.05515421583334,\n",
       " 'applicant_ethnicity_name_Not Hispanic or Latino': 87.77899784285714,\n",
       " 'owner_occupancy_name_Not owner-occupied as a principal dwelling': 21.123741155384614,\n",
       " 'applicant_race_name_1_Asian': 57.96548072712501,\n",
       " 'tract_to_msamd_income': 19.654413119999994,\n",
       " 'msamd_name_Riverside, San Bernardino, Ontario - CA': 23.262281438947365,\n",
       " 'applicant_race_name_1_Black or African American': 28.73618628272727,\n",
       " 'msamd_name_San Diego, Carlsbad - CA': 6.96433353,\n",
       " 'applicant_ethnicity_name_Hispanic or Latino': 14.8647896401,\n",
       " 'msamd_name_San Jose, Sunnyvale, Santa Clara - CA': 11.02521992785714,\n",
       " 'applicant_sex_name_Info not provided': 10.47778852317647,\n",
       " 'applicant_ethnicity_name_Info not provided': 10.83340263,\n",
       " 'msamd_name_Bakersfield - CA': 14.078577669999998,\n",
       " 'applicant_sex_name_Male': 3.06158066,\n",
       " 'msamd_name_San Francisco, Redwood City, South San Francisco - CA': 15.691884291818182,\n",
       " 'msamd_name_Los Angeles, Long Beach, Glendale - CA': 3.679938412,\n",
       " 'msamd_name_Oakland, Hayward, Berkeley - CA': 12.898699816999999,\n",
       " 'population': 5.026599533000001,\n",
       " 'msamd_name_El Centro - CA': 4.526782035,\n",
       " 'msamd_name_Fresno - CA': 9.19315402625,\n",
       " 'msamd_name_Visalia, Porterville - CA': 6.829665856,\n",
       " 'msamd_name_Stockton, Lodi - CA': 6.0099521639999995,\n",
       " 'msamd_name_San Rafael - CA': 3.213383135,\n",
       " 'applicant_sex_name_Female': 17.5452163,\n",
       " 'msamd_name_Yuba City - CA': 6.443927208333332,\n",
       " 'msamd_name_Sacramento, Roseville, Arden-Arcade - CA': 2.3905468,\n",
       " 'applicant_race_name_1_American Indian or Alaska Native': 5.844933506666667,\n",
       " 'msamd_name_Madera - CA': 5.175514539999999,\n",
       " 'msamd_name_Santa Rosa - CA': 5.507914305,\n",
       " 'msamd_name_Modesto - CA': 4.562114475,\n",
       " 'msamd_name_Merced - CA': 4.3267107,\n",
       " 'msamd_name_Anaheim, Santa Ana, Irvine - CA': 1.73611975,\n",
       " 'msamd_name_San Luis Obispo, Paso Robles, Arroyo Grande - CA': 3.17209673}"
      ]
     },
     "execution_count": 90,
     "metadata": {},
     "output_type": "execute_result"
    }
   ],
   "source": [
    "model.get_booster().get_score(importance_type='gain') #extract raw gain scores"
   ]
  },
  {
   "cell_type": "code",
   "execution_count": null,
   "metadata": {},
   "outputs": [],
   "source": []
  },
  {
   "cell_type": "code",
   "execution_count": null,
   "metadata": {},
   "outputs": [],
   "source": []
  }
 ],
 "metadata": {
  "kernelspec": {
   "display_name": "Python 3",
   "language": "python",
   "name": "python3"
  },
  "language_info": {
   "codemirror_mode": {
    "name": "ipython",
    "version": 3
   },
   "file_extension": ".py",
   "mimetype": "text/x-python",
   "name": "python",
   "nbconvert_exporter": "python",
   "pygments_lexer": "ipython3",
   "version": "3.8.5"
  }
 },
 "nbformat": 4,
 "nbformat_minor": 4
}
